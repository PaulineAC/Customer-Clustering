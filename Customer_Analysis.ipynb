{
 "cells": [
  {
   "cell_type": "markdown",
   "id": "ddb01b22",
   "metadata": {},
   "source": [
    "# Customer clustering"
   ]
  },
  {
   "cell_type": "markdown",
   "id": "26abd641",
   "metadata": {},
   "source": [
    "## Loading libraries/packages"
   ]
  },
  {
   "cell_type": "code",
   "execution_count": 243,
   "id": "a0c68e85",
   "metadata": {},
   "outputs": [],
   "source": [
    "import pandas as pd \n",
    "import numpy as np\n",
    "import seaborn as sns\n",
    "import matplotlib.pyplot as plt\n",
    "import time\n",
    "import datetime\n",
    "\n",
    "from sklearn.preprocessing import StandardScaler\n",
    "from sklearn.preprocessing import LabelEncoder\n",
    "from sklearn.cluster import KMeans\n",
    "\n",
    "# Data from: https://www.kaggle.com/datasets/imakash3011/customer-personality-analysis/data\n",
    "# Goal: Cluster customers based on demographic data."
   ]
  },
  {
   "cell_type": "markdown",
   "id": "11412522",
   "metadata": {},
   "source": [
    "## Importing data + dealing with missing data:"
   ]
  },
  {
   "cell_type": "code",
   "execution_count": 244,
   "id": "d9456936",
   "metadata": {},
   "outputs": [
    {
     "name": "stdout",
     "output_type": "stream",
     "text": [
      "     ID  Year_Birth   Education Marital_Status   Income  Kidhome  Teenhome  \\\n",
      "0  5524        1957  Graduation         Single  58138.0        0         0   \n",
      "1  2174        1954  Graduation         Single  46344.0        1         1   \n",
      "2  4141        1965  Graduation       Together  71613.0        0         0   \n",
      "3  6182        1984  Graduation       Together  26646.0        1         0   \n",
      "4  5324        1981         PhD        Married  58293.0        1         0   \n",
      "\n",
      "  Dt_Customer  Recency  MntWines  ...  NumWebVisitsMonth  AcceptedCmp3  \\\n",
      "0  04-09-2012       58       635  ...                  7             0   \n",
      "1  08-03-2014       38        11  ...                  5             0   \n",
      "2  21-08-2013       26       426  ...                  4             0   \n",
      "3  10-02-2014       26        11  ...                  6             0   \n",
      "4  19-01-2014       94       173  ...                  5             0   \n",
      "\n",
      "   AcceptedCmp4  AcceptedCmp5  AcceptedCmp1  AcceptedCmp2  Complain  \\\n",
      "0             0             0             0             0         0   \n",
      "1             0             0             0             0         0   \n",
      "2             0             0             0             0         0   \n",
      "3             0             0             0             0         0   \n",
      "4             0             0             0             0         0   \n",
      "\n",
      "   Z_CostContact  Z_Revenue  Response  \n",
      "0              3         11         1  \n",
      "1              3         11         0  \n",
      "2              3         11         0  \n",
      "3              3         11         0  \n",
      "4              3         11         0  \n",
      "\n",
      "[5 rows x 29 columns]\n"
     ]
    }
   ],
   "source": [
    "# Import data:\n",
    "df = pd.read_csv(\"/Users/paulinecuperus/Downloads/marketing_campaign.csv\", sep = \"\\t\")\n",
    "print(df.head())"
   ]
  },
  {
   "cell_type": "code",
   "execution_count": 245,
   "id": "fd8773b6",
   "metadata": {},
   "outputs": [
    {
     "name": "stdout",
     "output_type": "stream",
     "text": [
      "<class 'pandas.core.frame.DataFrame'>\n",
      "RangeIndex: 2240 entries, 0 to 2239\n",
      "Data columns (total 29 columns):\n",
      " #   Column               Non-Null Count  Dtype  \n",
      "---  ------               --------------  -----  \n",
      " 0   ID                   2240 non-null   int64  \n",
      " 1   Year_Birth           2240 non-null   int64  \n",
      " 2   Education            2240 non-null   object \n",
      " 3   Marital_Status       2240 non-null   object \n",
      " 4   Income               2216 non-null   float64\n",
      " 5   Kidhome              2240 non-null   int64  \n",
      " 6   Teenhome             2240 non-null   int64  \n",
      " 7   Dt_Customer          2240 non-null   object \n",
      " 8   Recency              2240 non-null   int64  \n",
      " 9   MntWines             2240 non-null   int64  \n",
      " 10  MntFruits            2240 non-null   int64  \n",
      " 11  MntMeatProducts      2240 non-null   int64  \n",
      " 12  MntFishProducts      2240 non-null   int64  \n",
      " 13  MntSweetProducts     2240 non-null   int64  \n",
      " 14  MntGoldProds         2240 non-null   int64  \n",
      " 15  NumDealsPurchases    2240 non-null   int64  \n",
      " 16  NumWebPurchases      2240 non-null   int64  \n",
      " 17  NumCatalogPurchases  2240 non-null   int64  \n",
      " 18  NumStorePurchases    2240 non-null   int64  \n",
      " 19  NumWebVisitsMonth    2240 non-null   int64  \n",
      " 20  AcceptedCmp3         2240 non-null   int64  \n",
      " 21  AcceptedCmp4         2240 non-null   int64  \n",
      " 22  AcceptedCmp5         2240 non-null   int64  \n",
      " 23  AcceptedCmp1         2240 non-null   int64  \n",
      " 24  AcceptedCmp2         2240 non-null   int64  \n",
      " 25  Complain             2240 non-null   int64  \n",
      " 26  Z_CostContact        2240 non-null   int64  \n",
      " 27  Z_Revenue            2240 non-null   int64  \n",
      " 28  Response             2240 non-null   int64  \n",
      "dtypes: float64(1), int64(25), object(3)\n",
      "memory usage: 507.6+ KB\n",
      "None\n"
     ]
    }
   ],
   "source": [
    "# Check data types:\n",
    "print(df.info())\n",
    "# All as correct data types."
   ]
  },
  {
   "cell_type": "code",
   "execution_count": 246,
   "id": "f9b363e0",
   "metadata": {},
   "outputs": [
    {
     "name": "stdout",
     "output_type": "stream",
     "text": [
      "ID                      0\n",
      "Year_Birth              0\n",
      "Education               0\n",
      "Marital_Status          0\n",
      "Income                 24\n",
      "Kidhome                 0\n",
      "Teenhome                0\n",
      "Dt_Customer             0\n",
      "Recency                 0\n",
      "MntWines                0\n",
      "MntFruits               0\n",
      "MntMeatProducts         0\n",
      "MntFishProducts         0\n",
      "MntSweetProducts        0\n",
      "MntGoldProds            0\n",
      "NumDealsPurchases       0\n",
      "NumWebPurchases         0\n",
      "NumCatalogPurchases     0\n",
      "NumStorePurchases       0\n",
      "NumWebVisitsMonth       0\n",
      "AcceptedCmp3            0\n",
      "AcceptedCmp4            0\n",
      "AcceptedCmp5            0\n",
      "AcceptedCmp1            0\n",
      "AcceptedCmp2            0\n",
      "Complain                0\n",
      "Z_CostContact           0\n",
      "Z_Revenue               0\n",
      "Response                0\n",
      "dtype: int64\n",
      "                 ID   Year_Birth  Income    Kidhome   Teenhome    Recency  \\\n",
      "count     24.000000    24.000000     0.0  24.000000  24.000000  24.000000   \n",
      "mean    5943.625000  1967.458333     NaN   0.666667   0.583333  58.041667   \n",
      "std     3028.349268    12.021644     NaN   0.637022   0.583592  29.492046   \n",
      "min     1295.000000  1943.000000     NaN   0.000000   0.000000   4.000000   \n",
      "25%     3063.250000  1957.750000     NaN   0.000000   0.000000  35.500000   \n",
      "50%     5526.500000  1969.500000     NaN   1.000000   1.000000  62.000000   \n",
      "75%     8597.750000  1974.250000     NaN   1.000000   1.000000  82.250000   \n",
      "max    10629.000000  1989.000000     NaN   2.000000   2.000000  96.000000   \n",
      "\n",
      "         MntWines   MntFruits  MntMeatProducts  MntFishProducts  ...  \\\n",
      "count   24.000000   24.000000        24.000000        24.000000  ...   \n",
      "mean   197.208333   21.333333       162.708333        27.166667  ...   \n",
      "std    242.479758   38.310705       339.420411        41.281290  ...   \n",
      "min      5.000000    0.000000         3.000000         0.000000  ...   \n",
      "25%     22.000000    1.000000        14.500000         2.000000  ...   \n",
      "50%     76.000000    3.500000        35.000000         8.000000  ...   \n",
      "75%    286.000000   24.250000       177.000000        40.750000  ...   \n",
      "max    861.000000  138.000000      1607.000000       164.000000  ...   \n",
      "\n",
      "       NumWebVisitsMonth  AcceptedCmp3  AcceptedCmp4  AcceptedCmp5  \\\n",
      "count          24.000000          24.0     24.000000     24.000000   \n",
      "mean            5.083333           0.0      0.125000      0.041667   \n",
      "std             2.586195           0.0      0.337832      0.204124   \n",
      "min             0.000000           0.0      0.000000      0.000000   \n",
      "25%             3.000000           0.0      0.000000      0.000000   \n",
      "50%             6.000000           0.0      0.000000      0.000000   \n",
      "75%             7.000000           0.0      0.000000      0.000000   \n",
      "max             9.000000           0.0      1.000000      1.000000   \n",
      "\n",
      "       AcceptedCmp1  AcceptedCmp2  Complain  Z_CostContact  Z_Revenue  \\\n",
      "count     24.000000          24.0      24.0           24.0       24.0   \n",
      "mean       0.083333           0.0       0.0            3.0       11.0   \n",
      "std        0.282330           0.0       0.0            0.0        0.0   \n",
      "min        0.000000           0.0       0.0            3.0       11.0   \n",
      "25%        0.000000           0.0       0.0            3.0       11.0   \n",
      "50%        0.000000           0.0       0.0            3.0       11.0   \n",
      "75%        0.000000           0.0       0.0            3.0       11.0   \n",
      "max        1.000000           0.0       0.0            3.0       11.0   \n",
      "\n",
      "        Response  \n",
      "count  24.000000  \n",
      "mean    0.041667  \n",
      "std     0.204124  \n",
      "min     0.000000  \n",
      "25%     0.000000  \n",
      "50%     0.000000  \n",
      "75%     0.000000  \n",
      "max     1.000000  \n",
      "\n",
      "[8 rows x 26 columns]\n",
      "                 ID   Year_Birth         Income      Kidhome     Teenhome  \\\n",
      "count   2216.000000  2216.000000    2216.000000  2216.000000  2216.000000   \n",
      "mean    5588.353339  1968.820397   52247.251354     0.441787     0.505415   \n",
      "std     3249.376275    11.985554   25173.076661     0.536896     0.544181   \n",
      "min        0.000000  1893.000000    1730.000000     0.000000     0.000000   \n",
      "25%     2814.750000  1959.000000   35303.000000     0.000000     0.000000   \n",
      "50%     5458.500000  1970.000000   51381.500000     0.000000     0.000000   \n",
      "75%     8421.750000  1977.000000   68522.000000     1.000000     1.000000   \n",
      "max    11191.000000  1996.000000  666666.000000     2.000000     2.000000   \n",
      "\n",
      "           Recency     MntWines    MntFruits  MntMeatProducts  \\\n",
      "count  2216.000000  2216.000000  2216.000000      2216.000000   \n",
      "mean     49.012635   305.091606    26.356047       166.995939   \n",
      "std      28.948352   337.327920    39.793917       224.283273   \n",
      "min       0.000000     0.000000     0.000000         0.000000   \n",
      "25%      24.000000    24.000000     2.000000        16.000000   \n",
      "50%      49.000000   174.500000     8.000000        68.000000   \n",
      "75%      74.000000   505.000000    33.000000       232.250000   \n",
      "max      99.000000  1493.000000   199.000000      1725.000000   \n",
      "\n",
      "       MntFishProducts  ...  NumWebVisitsMonth  AcceptedCmp3  AcceptedCmp4  \\\n",
      "count      2216.000000  ...        2216.000000   2216.000000   2216.000000   \n",
      "mean         37.637635  ...           5.319043      0.073556      0.074007   \n",
      "std          54.752082  ...           2.425359      0.261106      0.261842   \n",
      "min           0.000000  ...           0.000000      0.000000      0.000000   \n",
      "25%           3.000000  ...           3.000000      0.000000      0.000000   \n",
      "50%          12.000000  ...           6.000000      0.000000      0.000000   \n",
      "75%          50.000000  ...           7.000000      0.000000      0.000000   \n",
      "max         259.000000  ...          20.000000      1.000000      1.000000   \n",
      "\n",
      "       AcceptedCmp5  AcceptedCmp1  AcceptedCmp2     Complain  Z_CostContact  \\\n",
      "count   2216.000000   2216.000000   2216.000000  2216.000000         2216.0   \n",
      "mean       0.073105      0.064079      0.013538     0.009477            3.0   \n",
      "std        0.260367      0.244950      0.115588     0.096907            0.0   \n",
      "min        0.000000      0.000000      0.000000     0.000000            3.0   \n",
      "25%        0.000000      0.000000      0.000000     0.000000            3.0   \n",
      "50%        0.000000      0.000000      0.000000     0.000000            3.0   \n",
      "75%        0.000000      0.000000      0.000000     0.000000            3.0   \n",
      "max        1.000000      1.000000      1.000000     1.000000            3.0   \n",
      "\n",
      "       Z_Revenue     Response  \n",
      "count     2216.0  2216.000000  \n",
      "mean        11.0     0.150271  \n",
      "std          0.0     0.357417  \n",
      "min         11.0     0.000000  \n",
      "25%         11.0     0.000000  \n",
      "50%         11.0     0.000000  \n",
      "75%         11.0     0.000000  \n",
      "max         11.0     1.000000  \n",
      "\n",
      "[8 rows x 26 columns]\n"
     ]
    }
   ],
   "source": [
    "# Check missing data: \n",
    "print(df.isnull().sum())\n",
    "\n",
    "# There are only 24 rows with missing data.\n",
    "# Are these missing completely at random? Check how they compare to others:\n",
    "print(df[df[\"Income\"].isnull()].describe())\n",
    "print(df[df[\"Income\"].isnull() == False].describe())"
   ]
  },
  {
   "cell_type": "markdown",
   "id": "d92b8b8b",
   "metadata": {},
   "source": [
    "I don't see any worrying trends here.\n",
    "I do notice, however, that there are no people that have indicated that they have \"0\" income. I'm wondering whether this might be the case for people that have missing data for the \"income\" column. This may be related to how much people have spent (i.e. we would expect people with low income may spent less). "
   ]
  },
  {
   "cell_type": "code",
   "execution_count": 247,
   "id": "85193b69",
   "metadata": {},
   "outputs": [
    {
     "name": "stdout",
     "output_type": "stream",
     "text": [
      "count      24.000000\n",
      "mean      290.666667\n",
      "std       400.495961\n",
      "min        11.000000\n",
      "25%        26.000000\n",
      "50%        94.500000\n",
      "75%       403.250000\n",
      "max      1647.000000\n",
      "Name: Amount_Spent, dtype: float64\n",
      "count    2216.000000\n",
      "mean      301.983755\n",
      "std       337.632733\n",
      "min         1.000000\n",
      "25%        42.000000\n",
      "50%       143.500000\n",
      "75%       486.250000\n",
      "max      1729.000000\n",
      "Name: Amount_Spent, dtype: float64\n"
     ]
    }
   ],
   "source": [
    "# Check how much the total spending amount is in both categories:\n",
    "df[\"Amount_Spent\"] = df[\"MntFruits\"] + df[\"MntMeatProducts\"] + df[\"MntFishProducts\"] + df[\"MntSweetProducts\"] + df[\"MntGoldProds\"]\n",
    "print(df[df[\"Income\"].isnull()][\"Amount_Spent\"].describe())\n",
    "print(df[df[\"Income\"].isnull() == False][\"Amount_Spent\"].describe())"
   ]
  },
  {
   "cell_type": "markdown",
   "id": "5f837637",
   "metadata": {},
   "source": [
    "The two groups are very similar in spending patterns. Still, I can think of reasons why they might have \"0\" income and have this type of spending pattern (e.g. they just got laid off and are living off savings). I cannot be certain that the data are missing completely at random. I will therefore delete all rows with missing data:"
   ]
  },
  {
   "cell_type": "code",
   "execution_count": 248,
   "id": "22bf56f5",
   "metadata": {},
   "outputs": [],
   "source": [
    "df = df.dropna()"
   ]
  },
  {
   "cell_type": "markdown",
   "id": "6c5a6a32",
   "metadata": {},
   "source": [
    "# Exploratory data analysis + data preprocessing"
   ]
  },
  {
   "cell_type": "markdown",
   "id": "801d78b3",
   "metadata": {},
   "source": [
    "### Birth year"
   ]
  },
  {
   "cell_type": "markdown",
   "id": "c8bd5228",
   "metadata": {},
   "source": [
    "Rather than having customers' year of birth. I would like to change this to a column that has customers' age. I'm not sure when the data were collected, but will assume (this is a guess) that the youngest customer in the dataset was 18 at the time of data collection."
   ]
  },
  {
   "cell_type": "code",
   "execution_count": 249,
   "id": "c6877458",
   "metadata": {},
   "outputs": [
    {
     "name": "stdout",
     "output_type": "stream",
     "text": [
      "1996\n"
     ]
    }
   ],
   "source": [
    "print(df[\"Year_Birth\"].max())"
   ]
  },
  {
   "cell_type": "markdown",
   "id": "c06f482d",
   "metadata": {},
   "source": [
    "Hightest Year_Birth is 1996, so I'll assume that the data was collected in 1996 + 18 = 2014. I will therefore drop all rows where the \"Year_Birth\" value is <= 1914. I assume these are errors, as it is unlikely that there are any customers over the age of 100."
   ]
  },
  {
   "cell_type": "code",
   "execution_count": 250,
   "id": "4fbfb5d5",
   "metadata": {},
   "outputs": [],
   "source": [
    "df = df[df[\"Year_Birth\"] >= 1914]\n",
    "df[\"Age\"] = 2014 - df[\"Year_Birth\"]"
   ]
  },
  {
   "cell_type": "markdown",
   "id": "00cbd65f",
   "metadata": {},
   "source": [
    "I might want to look at age categories rather than age as a numeric variable during the analysis. Just in case, I will create different age brackets:"
   ]
  },
  {
   "cell_type": "code",
   "execution_count": 251,
   "id": "e7b1ef4e",
   "metadata": {},
   "outputs": [],
   "source": [
    "# Bin data into age groups: \n",
    "bin_boundaries = [0, 31, 41, 51, 61, 100]\n",
    "bin_labels = [\"18-30\", \"31-40\", \"41-50\", \"51-60\", \"60+\"]\n",
    "\n",
    "df[\"age_bin\"] = pd.cut(df[\"Age\"], bins = bin_boundaries, labels = bin_labels, include_lowest = True, right = False)"
   ]
  },
  {
   "cell_type": "markdown",
   "id": "f6fb1d41",
   "metadata": {},
   "source": [
    "##### Visualising customers' ages:"
   ]
  },
  {
   "cell_type": "code",
   "execution_count": 252,
   "id": "bbebec1f",
   "metadata": {},
   "outputs": [
    {
     "data": {
      "image/png": "[encoded data removed]",
      "text/plain": [
       "<Figure size 640x480 with 1 Axes>"
      ]
     },
     "metadata": {},
     "output_type": "display_data"
    }
   ],
   "source": [
    "df2 = df[\"Age\"].value_counts().reset_index()\n",
    "plt.bar(df2[\"Age\"], df2[\"count\"])\n",
    "plt.title(\"Age distribution of customer base\")\n",
    "plt.xlabel(\"Age\")\n",
    "plt.ylabel(\"Number of customers\")\n",
    "plt.show()"
   ]
  },
  {
   "cell_type": "markdown",
   "id": "6afb407c",
   "metadata": {},
   "source": [
    "### Level of education:"
   ]
  },
  {
   "cell_type": "code",
   "execution_count": 253,
   "id": "0d6b1c20",
   "metadata": {},
   "outputs": [
    {
     "name": "stdout",
     "output_type": "stream",
     "text": [
      "Education\n",
      "Graduation    1116\n",
      "PhD            480\n",
      "Master         365\n",
      "2n Cycle       198\n",
      "Basic           54\n",
      "Name: count, dtype: int64\n"
     ]
    }
   ],
   "source": [
    "# View distribution across categories:\n",
    "print(df[\"Education\"].value_counts())"
   ]
  },
  {
   "cell_type": "markdown",
   "id": "ae1e728b",
   "metadata": {},
   "source": [
    "Note that there are very few people in the \"Basic\" category. I would like to divide this feature into larger groups, but I do not understand the meaning of the different categories. I worry I may divide them incorrectly and so will not change this variable."
   ]
  },
  {
   "cell_type": "markdown",
   "id": "ce9ddbf5",
   "metadata": {},
   "source": [
    "#### Visualise level of education"
   ]
  },
  {
   "cell_type": "code",
   "execution_count": 254,
   "id": "5de2da31",
   "metadata": {},
   "outputs": [
    {
     "name": "stderr",
     "output_type": "stream",
     "text": [
      "/Users/paulinecuperus/anaconda3/lib/python3.11/site-packages/seaborn/axisgrid.py:118: UserWarning: The figure layout has changed to tight\n",
      "  self._figure.tight_layout(*args, **kwargs)\n"
     ]
    },
    {
     "data": {
      "text/plain": [
       "<seaborn.axisgrid.FacetGrid at 0x1474225d0>"
      ]
     },
     "execution_count": 254,
     "metadata": {},
     "output_type": "execute_result"
    },
    {
     "data": {
      "image/png": "[encoded data removed]",
      "text/plain": [
       "<Figure size 500x500 with 1 Axes>"
      ]
     },
     "metadata": {},
     "output_type": "display_data"
    }
   ],
   "source": [
    "sns.displot(df, x = \"Education\")"
   ]
  },
  {
   "cell_type": "markdown",
   "id": "85a0de55",
   "metadata": {},
   "source": [
    "### Marital status"
   ]
  },
  {
   "cell_type": "code",
   "execution_count": 255,
   "id": "332cd82e",
   "metadata": {},
   "outputs": [
    {
     "name": "stdout",
     "output_type": "stream",
     "text": [
      "Marital_Status\n",
      "Married     857\n",
      "Together    572\n",
      "Single      470\n",
      "Divorced    231\n",
      "Widow        76\n",
      "Alone         3\n",
      "Absurd        2\n",
      "YOLO          2\n",
      "Name: count, dtype: int64\n"
     ]
    }
   ],
   "source": [
    "print(df[\"Marital_Status\"].value_counts())"
   ]
  },
  {
   "cell_type": "markdown",
   "id": "6863c088",
   "metadata": {},
   "source": [
    "There are many smaller categories here. I will change this to only two categories: In a relationship yes/no:"
   ]
  },
  {
   "cell_type": "code",
   "execution_count": 256,
   "id": "dbb993e5",
   "metadata": {},
   "outputs": [],
   "source": [
    "df[\"Marital_Status\"] = df[\"Marital_Status\"].replace({\"Married\": \"In a relationship\", \"Together\": \"In a relationship\", \"Single\": \"Not in a relationship\", \"Divorced\": \"Not in a relationship\", \"Widow\": \"Not in a relationship\", \"Alone\": \"Not in a relationship\", \"Absurd\": \"Not in a relationship\", \"YOLO\": \"Not in a relationship\"})"
   ]
  },
  {
   "cell_type": "markdown",
   "id": "d74629ba",
   "metadata": {},
   "source": [
    "Based on marital status, we can calculate the number of adults in a household. I'd like to save this as a separate variable:"
   ]
  },
  {
   "cell_type": "code",
   "execution_count": 257,
   "id": "53273c5e",
   "metadata": {},
   "outputs": [
    {
     "name": "stdout",
     "output_type": "stream",
     "text": [
      "Number_of_Adults\n",
      "2    1429\n",
      "1     784\n",
      "Name: count, dtype: int64\n"
     ]
    }
   ],
   "source": [
    "df[\"Number_of_Adults\"] = df.apply(lambda x: 2 if x[\"Marital_Status\"] == \"In a relationship\" else 1, axis = 1)\n",
    "print(df[\"Number_of_Adults\"].value_counts())"
   ]
  },
  {
   "cell_type": "markdown",
   "id": "1f721f3b",
   "metadata": {},
   "source": [
    "#### Visualise marital status:"
   ]
  },
  {
   "cell_type": "code",
   "execution_count": 258,
   "id": "fc0603d3",
   "metadata": {},
   "outputs": [
    {
     "name": "stderr",
     "output_type": "stream",
     "text": [
      "/Users/paulinecuperus/anaconda3/lib/python3.11/site-packages/seaborn/axisgrid.py:118: UserWarning: The figure layout has changed to tight\n",
      "  self._figure.tight_layout(*args, **kwargs)\n"
     ]
    },
    {
     "data": {
      "text/plain": [
       "<seaborn.axisgrid.FacetGrid at 0x148093110>"
      ]
     },
     "execution_count": 258,
     "metadata": {},
     "output_type": "execute_result"
    },
    {
     "data": {
      "image/png": "[encoded data removed]",
      "text/plain": [
       "<Figure size 500x500 with 1 Axes>"
      ]
     },
     "metadata": {},
     "output_type": "display_data"
    }
   ],
   "source": [
    "sns.displot(df, x = \"Marital_Status\")"
   ]
  },
  {
   "cell_type": "markdown",
   "id": "52165b53",
   "metadata": {},
   "source": [
    "### Income"
   ]
  },
  {
   "cell_type": "markdown",
   "id": "cab4d055",
   "metadata": {},
   "source": [
    "#### Visualise income"
   ]
  },
  {
   "cell_type": "code",
   "execution_count": 259,
   "id": "ec60b16d",
   "metadata": {},
   "outputs": [
    {
     "data": {
      "text/plain": [
       "Text(0, 0.5, 'Household income')"
      ]
     },
     "execution_count": 259,
     "metadata": {},
     "output_type": "execute_result"
    },
    {
     "data": {
      "image/png": "[encoded data removed]",
      "text/plain": [
       "<Figure size 640x480 with 1 Axes>"
      ]
     },
     "metadata": {},
     "output_type": "display_data"
    }
   ],
   "source": [
    "sns.boxplot(df[\"Income\"])\n",
    "plt.title(\"Income distribution\")\n",
    "plt.ylabel(\"Household income\")"
   ]
  },
  {
   "cell_type": "markdown",
   "id": "fcf61395",
   "metadata": {},
   "source": [
    "There is one very clear outlier in the data, which I will remove:"
   ]
  },
  {
   "cell_type": "code",
   "execution_count": 260,
   "id": "67812241",
   "metadata": {},
   "outputs": [
    {
     "data": {
      "text/plain": [
       "Text(0, 0.5, 'Household income')"
      ]
     },
     "execution_count": 260,
     "metadata": {},
     "output_type": "execute_result"
    },
    {
     "data": {
      "image/png": "[encoded data removed]",
      "text/plain": [
       "<Figure size 640x480 with 1 Axes>"
      ]
     },
     "metadata": {},
     "output_type": "display_data"
    }
   ],
   "source": [
    "# There is one very clear outlier in the data. I will remove this:\n",
    "df = df[df[\"Income\"] < 500000]\n",
    "\n",
    "# Visualise with outlier removed:\n",
    "sns.boxplot(df[\"Income\"])\n",
    "plt.title(\"Income distribution\")\n",
    "plt.ylabel(\"Household income\")"
   ]
  },
  {
   "cell_type": "markdown",
   "id": "d2af365e",
   "metadata": {},
   "source": [
    "Some outliers remaining. I will keep these in as:\n",
    "- They are valid data points.\n",
    "- There's not so many that they will have a large effect on the analysis, but enough close together for it to be a potential customer cluster."
   ]
  },
  {
   "cell_type": "markdown",
   "id": "e1307267",
   "metadata": {},
   "source": [
    "### Number of children / teenagers"
   ]
  },
  {
   "cell_type": "code",
   "execution_count": 261,
   "id": "0ef5bc50",
   "metadata": {},
   "outputs": [
    {
     "name": "stdout",
     "output_type": "stream",
     "text": [
      "Kidhome\n",
      "0    1281\n",
      "1     885\n",
      "2      46\n",
      "Name: count, dtype: int64\n",
      "Teenhome\n",
      "0    1144\n",
      "1    1017\n",
      "2      51\n",
      "Name: count, dtype: int64\n"
     ]
    }
   ],
   "source": [
    "# Explore distribution:\n",
    "print(df[\"Kidhome\"].value_counts())\n",
    "print(df[\"Teenhome\"].value_counts())"
   ]
  },
  {
   "cell_type": "markdown",
   "id": "f7aacf28",
   "metadata": {},
   "source": [
    "I would like to create some additional variables here:\n",
    "- Total number of minors (children + teens)\n",
    "- Household size (adults + minors)\n",
    "- Binary variable: Are there minors yes or no? (I might want to explore this as an alternative to the number of minors in further analysis."
   ]
  },
  {
   "cell_type": "code",
   "execution_count": 262,
   "id": "addc8fbc",
   "metadata": {},
   "outputs": [
    {
     "name": "stdout",
     "output_type": "stream",
     "text": [
      "Number_of_Minors\n",
      "1    1114\n",
      "0     632\n",
      "2     416\n",
      "3      50\n",
      "Name: count, dtype: int64\n",
      "Minors_Binary\n",
      "1    1580\n",
      "0     632\n",
      "Name: count, dtype: int64\n"
     ]
    }
   ],
   "source": [
    "# Number of minors variable:\n",
    "df[\"Number_of_Minors\"] = df[\"Kidhome\"] + df[\"Teenhome\"]\n",
    "print(df[\"Number_of_Minors\"].value_counts())\n",
    "\n",
    "# Household size variable: \n",
    "df[\"Household_Size\"] = df[\"Number_of_Adults\"] + df[\"Number_of_Minors\"]\n",
    "\n",
    "# Minors present yes/no variable:\n",
    "df[\"Minors_Binary\"] = df.apply(lambda x: 1 if x[\"Number_of_Minors\"] in [1, 2, 3] else 0, axis = 1)\n",
    "print(df[\"Minors_Binary\"].value_counts())"
   ]
  },
  {
   "cell_type": "markdown",
   "id": "14f9187f",
   "metadata": {},
   "source": [
    "### Sign up date"
   ]
  },
  {
   "cell_type": "markdown",
   "id": "b2f27395",
   "metadata": {},
   "source": [
    "Worth further exploring: If people have only just signed up, we might want to use targeted marketing to ensure that they are retained as customers. I'd like to have this as a days since signing up, rather than the sign up date itself:"
   ]
  },
  {
   "cell_type": "code",
   "execution_count": 263,
   "id": "8e71ba13",
   "metadata": {},
   "outputs": [],
   "source": [
    "# Change to days since signing up:\n",
    "df[\"Days_Since_Signing_Up\"] = df.apply(lambda x: ((datetime.datetime.strptime(\"31-12-2014\", \"%d-%m-%Y\")) - (datetime.datetime.strptime(x[\"Dt_Customer\"], \"%d-%m-%Y\"))).days, axis = 1)"
   ]
  },
  {
   "cell_type": "markdown",
   "id": "7c164032",
   "metadata": {},
   "source": [
    "This is a good time to check my previous assumption that the data are from 2014:"
   ]
  },
  {
   "cell_type": "code",
   "execution_count": 264,
   "id": "758f55ed",
   "metadata": {},
   "outputs": [
    {
     "name": "stdout",
     "output_type": "stream",
     "text": [
      "count    2212.000000\n",
      "mean      538.714286\n",
      "std       202.494886\n",
      "min       185.000000\n",
      "25%       365.000000\n",
      "50%       541.000000\n",
      "75%       714.000000\n",
      "max       884.000000\n",
      "Name: Days_Since_Signing_Up, dtype: float64\n"
     ]
    }
   ],
   "source": [
    "print(df[\"Days_Since_Signing_Up\"].describe())"
   ]
  },
  {
   "cell_type": "markdown",
   "id": "0de0901b",
   "metadata": {},
   "source": [
    "This assumption seems accurate with the lowest value being 185 days."
   ]
  },
  {
   "cell_type": "markdown",
   "id": "a2a452ea",
   "metadata": {},
   "source": [
    "##### Visualise distribution:"
   ]
  },
  {
   "cell_type": "code",
   "execution_count": 265,
   "id": "b9f91481",
   "metadata": {},
   "outputs": [
    {
     "data": {
      "text/plain": [
       "Text(0, 0.5, 'Days since signing up as customer')"
      ]
     },
     "execution_count": 265,
     "metadata": {},
     "output_type": "execute_result"
    },
    {
     "data": {
      "image/png": "[encoded data removed]",
      "text/plain": [
       "<Figure size 640x480 with 1 Axes>"
      ]
     },
     "metadata": {},
     "output_type": "display_data"
    }
   ],
   "source": [
    "# Check distribution:\n",
    "sns.boxplot(df[\"Days_Since_Signing_Up\"])\n",
    "plt.title(\"Distribution of customer duration\")\n",
    "plt.ylabel(\"Days since signing up as customer\")\n",
    "# No outliers."
   ]
  },
  {
   "cell_type": "markdown",
   "id": "ceae1e80",
   "metadata": {},
   "source": [
    "### Recency"
   ]
  },
  {
   "cell_type": "markdown",
   "id": "4d66f53f",
   "metadata": {},
   "source": [
    "Check distribution:"
   ]
  },
  {
   "cell_type": "code",
   "execution_count": 266,
   "id": "9ae4b1e8",
   "metadata": {},
   "outputs": [
    {
     "name": "stdout",
     "output_type": "stream",
     "text": [
      "count    2212.000000\n",
      "mean       49.019439\n",
      "std        28.943121\n",
      "min         0.000000\n",
      "25%        24.000000\n",
      "50%        49.000000\n",
      "75%        74.000000\n",
      "max        99.000000\n",
      "Name: Recency, dtype: float64\n"
     ]
    }
   ],
   "source": [
    "print(df[\"Recency\"].describe())"
   ]
  },
  {
   "cell_type": "markdown",
   "id": "2282ca08",
   "metadata": {},
   "source": [
    "##### Visualise recency:"
   ]
  },
  {
   "cell_type": "code",
   "execution_count": 267,
   "id": "d6e0c54c",
   "metadata": {},
   "outputs": [
    {
     "data": {
      "text/plain": [
       "Text(0, 0.5, 'Days')"
      ]
     },
     "execution_count": 267,
     "metadata": {},
     "output_type": "execute_result"
    },
    {
     "data": {
      "image/png": "[encoded data removed]",
      "text/plain": [
       "<Figure size 640x480 with 1 Axes>"
      ]
     },
     "metadata": {},
     "output_type": "display_data"
    }
   ],
   "source": [
    "sns.boxplot(df[\"Recency\"])\n",
    "plt.title(\"Days since last order\")\n",
    "plt.ylabel(\"Days\")\n",
    "# No outliers."
   ]
  },
  {
   "cell_type": "markdown",
   "id": "895b290a",
   "metadata": {},
   "source": [
    "### Amount spent"
   ]
  },
  {
   "cell_type": "markdown",
   "id": "1343e741",
   "metadata": {},
   "source": [
    "Rather than having this in five separate colmns, I would like this to be in a single column that sums up customers' total spending:"
   ]
  },
  {
   "cell_type": "code",
   "execution_count": 268,
   "id": "26fe5240",
   "metadata": {},
   "outputs": [],
   "source": [
    "df[\"Amount_Spent\"] = df[\"MntFruits\"] + df[\"MntMeatProducts\"] + df[\"MntFishProducts\"] + df[\"MntSweetProducts\"] + df[\"MntGoldProds\"]"
   ]
  },
  {
   "cell_type": "markdown",
   "id": "e90cc54d",
   "metadata": {},
   "source": [
    "##### Visualise amount spent"
   ]
  },
  {
   "cell_type": "code",
   "execution_count": 269,
   "id": "b187310b",
   "metadata": {},
   "outputs": [
    {
     "data": {
      "text/plain": [
       "<Axes: >"
      ]
     },
     "execution_count": 269,
     "metadata": {},
     "output_type": "execute_result"
    },
    {
     "data": {
      "image/png": "[encoded data removed]",
      "text/plain": [
       "<Figure size 640x480 with 1 Axes>"
      ]
     },
     "metadata": {},
     "output_type": "display_data"
    }
   ],
   "source": [
    "sns.boxplot(df[\"Amount_Spent\"])"
   ]
  },
  {
   "cell_type": "markdown",
   "id": "ef7477e5",
   "metadata": {},
   "source": [
    "There are some outliers here. While K means clustering is relatively sensitive to outliers, I have compared the model I run later with and without and outliers have very little impact. I will leave them in (the outliers could be a separate cluster)."
   ]
  },
  {
   "cell_type": "markdown",
   "id": "a8f9e428",
   "metadata": {},
   "source": [
    "### Promotions accepted"
   ]
  },
  {
   "cell_type": "markdown",
   "id": "aa3746d3",
   "metadata": {},
   "source": [
    "I would like to have this in two ways:\n",
    "1) A single variable that calculates the total number of promotions that the customer accepted.\n",
    "2) A binary value that indicates whether the customer has ever accepted a promotion (1) or has never accepted a promotion (0)."
   ]
  },
  {
   "cell_type": "code",
   "execution_count": 270,
   "id": "cc33d66f",
   "metadata": {},
   "outputs": [],
   "source": [
    "# 1)\n",
    "df[\"#_Accepted_Promotions\"] = df[\"AcceptedCmp1\"] + df[\"AcceptedCmp2\"] + df[\"AcceptedCmp3\"] + df[\"AcceptedCmp4\"] + df[\"AcceptedCmp5\"]\n",
    "\n",
    "# 2)\n",
    "df[\"Accepts_Promotions\"] = df.apply(lambda x: 1 if x[\"#_Accepted_Promotions\"] > 0 else 0, axis = 1)"
   ]
  },
  {
   "cell_type": "markdown",
   "id": "a04e6514",
   "metadata": {},
   "source": [
    "Checking the distribution / counts of these variables:"
   ]
  },
  {
   "cell_type": "code",
   "execution_count": 273,
   "id": "e4ae565e",
   "metadata": {},
   "outputs": [
    {
     "name": "stdout",
     "output_type": "stream",
     "text": [
      "count    2212.000000\n",
      "mean        0.298373\n",
      "std         0.679570\n",
      "min         0.000000\n",
      "25%         0.000000\n",
      "50%         0.000000\n",
      "75%         0.000000\n",
      "max         4.000000\n",
      "Name: #_Accepted_Promotions, dtype: float64\n",
      "Accepts_Promotions\n",
      "0    1754\n",
      "1     458\n",
      "Name: count, dtype: int64\n"
     ]
    }
   ],
   "source": [
    "print(df[\"#_Accepted_Promotions\"].describe())\n",
    "print(df[\"Accepts_Promotions\"].value_counts())"
   ]
  },
  {
   "cell_type": "markdown",
   "id": "d62106fe",
   "metadata": {},
   "source": [
    "### Purchasing means"
   ]
  },
  {
   "cell_type": "markdown",
   "id": "572ff897",
   "metadata": {},
   "source": [
    "It looks like there are three ways of purchasing: Web, Catalogue, and Store. I would like to store the main means of purchasing for each customer."
   ]
  },
  {
   "cell_type": "code",
   "execution_count": 274,
   "id": "62e89c2a",
   "metadata": {},
   "outputs": [],
   "source": [
    "# Create new variable with main means of purchasing:\n",
    "df[\"Main_Purchase_Means\"] = df.apply(lambda x: \"Web\" if ((x[\"NumWebPurchases\"] > x[\"NumCatalogPurchases\"]) & (x[\"NumWebPurchases\"] > x[\"NumStorePurchases\"])) else \"Catalog\" if ((x[\"NumCatalogPurchases\"] > x[\"NumWebPurchases\"]) & (x[\"NumCatalogPurchases\"] > x[\"NumStorePurchases\"])) else \"Store\" if ((x[\"NumStorePurchases\"] > x[\"NumCatalogPurchases\"]) & (x[\"NumStorePurchases\"] > x[\"NumWebPurchases\"])) else \"Combination\", axis = 1)"
   ]
  },
  {
   "cell_type": "code",
   "execution_count": 275,
   "id": "80140a3f",
   "metadata": {},
   "outputs": [
    {
     "name": "stdout",
     "output_type": "stream",
     "text": [
      "Main_Purchase_Means\n",
      "Store          1459\n",
      "Web             323\n",
      "Combination     295\n",
      "Catalog         135\n",
      "Name: count, dtype: int64\n"
     ]
    }
   ],
   "source": [
    "# Check distribution across categories:\n",
    "print(df[\"Main_Purchase_Means\"].value_counts())"
   ]
  },
  {
   "cell_type": "markdown",
   "id": "d1a15698",
   "metadata": {},
   "source": [
    "### Checking data types of new columns + deleting redundant columns"
   ]
  },
  {
   "cell_type": "code",
   "execution_count": 276,
   "id": "3b98e53a",
   "metadata": {},
   "outputs": [
    {
     "name": "stdout",
     "output_type": "stream",
     "text": [
      "<class 'pandas.core.frame.DataFrame'>\n",
      "Index: 2212 entries, 0 to 2239\n",
      "Data columns (total 40 columns):\n",
      " #   Column                 Non-Null Count  Dtype   \n",
      "---  ------                 --------------  -----   \n",
      " 0   ID                     2212 non-null   int64   \n",
      " 1   Year_Birth             2212 non-null   int64   \n",
      " 2   Education              2212 non-null   object  \n",
      " 3   Marital_Status         2212 non-null   object  \n",
      " 4   Income                 2212 non-null   float64 \n",
      " 5   Kidhome                2212 non-null   int64   \n",
      " 6   Teenhome               2212 non-null   int64   \n",
      " 7   Dt_Customer            2212 non-null   object  \n",
      " 8   Recency                2212 non-null   int64   \n",
      " 9   MntWines               2212 non-null   int64   \n",
      " 10  MntFruits              2212 non-null   int64   \n",
      " 11  MntMeatProducts        2212 non-null   int64   \n",
      " 12  MntFishProducts        2212 non-null   int64   \n",
      " 13  MntSweetProducts       2212 non-null   int64   \n",
      " 14  MntGoldProds           2212 non-null   int64   \n",
      " 15  NumDealsPurchases      2212 non-null   int64   \n",
      " 16  NumWebPurchases        2212 non-null   int64   \n",
      " 17  NumCatalogPurchases    2212 non-null   int64   \n",
      " 18  NumStorePurchases      2212 non-null   int64   \n",
      " 19  NumWebVisitsMonth      2212 non-null   int64   \n",
      " 20  AcceptedCmp3           2212 non-null   int64   \n",
      " 21  AcceptedCmp4           2212 non-null   int64   \n",
      " 22  AcceptedCmp5           2212 non-null   int64   \n",
      " 23  AcceptedCmp1           2212 non-null   int64   \n",
      " 24  AcceptedCmp2           2212 non-null   int64   \n",
      " 25  Complain               2212 non-null   int64   \n",
      " 26  Z_CostContact          2212 non-null   int64   \n",
      " 27  Z_Revenue              2212 non-null   int64   \n",
      " 28  Response               2212 non-null   int64   \n",
      " 29  Amount_Spent           2212 non-null   int64   \n",
      " 30  Age                    2212 non-null   int64   \n",
      " 31  age_bin                2212 non-null   category\n",
      " 32  Number_of_Adults       2212 non-null   int64   \n",
      " 33  Number_of_Minors       2212 non-null   int64   \n",
      " 34  Household_Size         2212 non-null   int64   \n",
      " 35  Minors_Binary          2212 non-null   int64   \n",
      " 36  Days_Since_Signing_Up  2212 non-null   int64   \n",
      " 37  #_Accepted_Promotions  2212 non-null   int64   \n",
      " 38  Accepts_Promotions     2212 non-null   int64   \n",
      " 39  Main_Purchase_Means    2212 non-null   object  \n",
      "dtypes: category(1), float64(1), int64(34), object(4)\n",
      "memory usage: 758.2+ KB\n",
      "None\n"
     ]
    }
   ],
   "source": [
    "print(df.info())\n",
    "# Change minors_binary and accepts_promotions:\n",
    "df[\"Minors_Binary\"] = df[\"Minors_Binary\"].astype(\"category\")\n",
    "df[\"Accepts_Promotions\"] = df[\"Accepts_Promotions\"].astype(\"category\")"
   ]
  },
  {
   "cell_type": "code",
   "execution_count": 277,
   "id": "31e0a32d",
   "metadata": {},
   "outputs": [
    {
     "name": "stdout",
     "output_type": "stream",
     "text": [
      "Index(['ID', 'Year_Birth', 'Education', 'Marital_Status', 'Income', 'Kidhome',\n",
      "       'Teenhome', 'Recency', 'Complain', 'Amount_Spent', 'Age', 'age_bin',\n",
      "       'Number_of_Adults', 'Number_of_Minors', 'Household_Size',\n",
      "       'Minors_Binary', 'Days_Since_Signing_Up', '#_Accepted_Promotions',\n",
      "       'Accepts_Promotions', 'Main_Purchase_Means'],\n",
      "      dtype='object')\n"
     ]
    }
   ],
   "source": [
    "# Drop columns that I won't be using:\n",
    "df = df.drop(columns = [\"Dt_Customer\", \"MntWines\", \"MntFruits\", \"MntMeatProducts\", \"MntFishProducts\", \"MntSweetProducts\", \"MntGoldProds\", \"NumDealsPurchases\", \"NumWebPurchases\", \"NumStorePurchases\", \"NumCatalogPurchases\", \"NumWebVisitsMonth\", \"AcceptedCmp3\", \"AcceptedCmp4\", \"AcceptedCmp5\", \"AcceptedCmp1\", \"AcceptedCmp2\", \"Z_CostContact\", \"Z_Revenue\", \"Response\"])\n",
    "print(df.columns)"
   ]
  },
  {
   "cell_type": "markdown",
   "id": "9f80196c",
   "metadata": {},
   "source": [
    "## Data transformation"
   ]
  },
  {
   "cell_type": "code",
   "execution_count": 278,
   "id": "ff4d5347",
   "metadata": {},
   "outputs": [],
   "source": [
    "# Label encode the categorical variables:\n",
    "label_encoder_education = LabelEncoder()\n",
    "df[\"Education\"] = label_encoder_education.fit_transform(df[\"Education\"])\n",
    "\n",
    "label_encoder_marital_status = LabelEncoder()\n",
    "df[\"Marital_Status\"] = label_encoder_marital_status.fit_transform(df[\"Marital_Status\"])\n",
    "\n",
    "label_encoder_promotions = LabelEncoder()\n",
    "df[\"Accepts_Promotions\"] = label_encoder_promotions.fit_transform(df[\"Accepts_Promotions\"])\n",
    "\n",
    "label_encoder_age = LabelEncoder()\n",
    "df[\"age_bin\"] = label_encoder_age.fit_transform(df[\"age_bin\"])\n",
    "\n",
    "label_encoder_means = LabelEncoder()\n",
    "df[\"Main_Purchase_Means\"] = label_encoder_means.fit_transform(df[\"Main_Purchase_Means\"])"
   ]
  },
  {
   "cell_type": "code",
   "execution_count": 279,
   "id": "dc41378a",
   "metadata": {},
   "outputs": [
    {
     "name": "stdout",
     "output_type": "stream",
     "text": [
      "     ID  Year_Birth  Education  Marital_Status   Income  Kidhome  Teenhome  \\\n",
      "0  5524        1957          2               1  58138.0        0         0   \n",
      "1  2174        1954          2               1  46344.0        1         1   \n",
      "2  4141        1965          2               0  71613.0        0         0   \n",
      "3  6182        1984          2               0  26646.0        1         0   \n",
      "4  5324        1981          4               0  58293.0        1         0   \n",
      "\n",
      "   Recency  Complain  Amount_Spent  Age  age_bin  Number_of_Adults  \\\n",
      "0       58         0           982   57        3                 1   \n",
      "1       38         0            16   60        3                 1   \n",
      "2       26         0           350   49        2                 2   \n",
      "3       26         0            42   30        0                 2   \n",
      "4       94         0           249   33        1                 2   \n",
      "\n",
      "   Number_of_Minors  Household_Size Minors_Binary  Days_Since_Signing_Up  \\\n",
      "0                 0               1             0                    848   \n",
      "1                 2               3             1                    298   \n",
      "2                 0               2             0                    497   \n",
      "3                 1               3             1                    324   \n",
      "4                 1               3             1                    346   \n",
      "\n",
      "   #_Accepted_Promotions  Accepts_Promotions  Main_Purchase_Means  \n",
      "0                      0                   0                    0  \n",
      "1                      0                   0                    2  \n",
      "2                      0                   0                    2  \n",
      "3                      0                   0                    2  \n",
      "4                      0                   0                    2  \n"
     ]
    }
   ],
   "source": [
    "# Check\n",
    "print(df.head())\n",
    "# Complete"
   ]
  },
  {
   "cell_type": "code",
   "execution_count": 280,
   "id": "a285c17c",
   "metadata": {},
   "outputs": [],
   "source": [
    "# Scale numeric data:\n",
    "standard_scaler = StandardScaler()\n",
    "df[\"Proportion_Income_Spent\"] = df[\"Amount_Spent\"] / df[\"Income\"] \n",
    "df[[\"Proportion_Income_Spent\", \"Income\", \"Recency\", \"Days_Since_Signing_Up\", \"Age\", \"Household_Size\", \"Amount_Spent\", \"#_Accepted_Promotions\"]] = standard_scaler.fit_transform(df[[\"Proportion_Income_Spent\", \"Income\", \"Recency\", \"Days_Since_Signing_Up\", \"Age\", \"Household_Size\", \"Amount_Spent\", \"#_Accepted_Promotions\"]])"
   ]
  },
  {
   "cell_type": "code",
   "execution_count": 281,
   "id": "c57249bc",
   "metadata": {},
   "outputs": [
    {
     "name": "stdout",
     "output_type": "stream",
     "text": [
      "     ID  Year_Birth  Education  Marital_Status    Income  Kidhome  Teenhome  \\\n",
      "0  5524        1957          2               1  0.287105        0         0   \n",
      "1  2174        1954          2               1 -0.260882        1         1   \n",
      "2  4141        1965          2               0  0.913196        0         0   \n",
      "3  6182        1984          2               0 -1.176114        1         0   \n",
      "4  5324        1981          4               0  0.294307        1         0   \n",
      "\n",
      "    Recency  Complain  Amount_Spent  ...  age_bin  Number_of_Adults  \\\n",
      "0  0.310353         0      2.016080  ...        3                 1   \n",
      "1 -0.380813         0     -0.847858  ...        3                 1   \n",
      "2 -0.795514         0      0.142365  ...        2                 2   \n",
      "3 -0.795514         0     -0.770775  ...        0                 2   \n",
      "4  1.554453         0     -0.157074  ...        1                 2   \n",
      "\n",
      "   Number_of_Minors  Household_Size  Minors_Binary Days_Since_Signing_Up  \\\n",
      "0                 0       -1.758359              0              1.527721   \n",
      "1                 2        0.449070              1             -1.189011   \n",
      "2                 0       -0.654644              0             -0.206048   \n",
      "3                 1        0.449070              1             -1.060584   \n",
      "4                 1        0.449070              1             -0.951915   \n",
      "\n",
      "   #_Accepted_Promotions  Accepts_Promotions  Main_Purchase_Means  \\\n",
      "0               -0.43916                   0                    0   \n",
      "1               -0.43916                   0                    2   \n",
      "2               -0.43916                   0                    2   \n",
      "3               -0.43916                   0                    2   \n",
      "4               -0.43916                   0                    2   \n",
      "\n",
      "   Proportion_Income_Spent  \n",
      "0                 0.748661  \n",
      "1                -0.308727  \n",
      "2                -0.018450  \n",
      "3                -0.230058  \n",
      "4                -0.057808  \n",
      "\n",
      "[5 rows x 21 columns]\n"
     ]
    }
   ],
   "source": [
    "# Check:\n",
    "print(df.head())\n",
    "# Complete"
   ]
  },
  {
   "cell_type": "markdown",
   "id": "8e0ea2c5",
   "metadata": {},
   "source": [
    "### Clustering"
   ]
  },
  {
   "cell_type": "markdown",
   "id": "9e302470",
   "metadata": {},
   "source": [
    "I will try out several combinations of features and includes the highest number of informative features and has the relatively lowest SSE."
   ]
  },
  {
   "cell_type": "code",
   "execution_count": 282,
   "id": "896311c9",
   "metadata": {},
   "outputs": [],
   "source": [
    "# Option 1: Using as many features as possible:\n",
    "columns_to_include_1 = [\"Education\", \"Income\", \"Age\", \"Household_Size\", \"Days_Since_Signing_Up\", \"Amount_Spent\", \"Accepts_Promotions\", \"Main_Purchase_Means\", \"Recency\"]\n",
    "# SSE at 4: 11800. SSE at 6: 10600\n",
    "\n",
    "# Option 2: Education left out here due to unclarity of what categories mean (and therefore inability to regroup\n",
    "# meaningfully):\n",
    "columns_to_include_2 = [\"Income\", \"Age\", \"Household_Size\", \"Days_Since_Signing_Up\", \"Amount_Spent\", \"Accepts_Promotions\", \"Main_Purchase_Means\", \"Recency\"]\n",
    "# SSE at 4: 9500. SSE at 6: 8200\n",
    "\n",
    "# Option 3: \n",
    "# Rather than including \"Household_Size\", include Marital_Status and Minors_Binary:\n",
    "columns_to_include_3 = [\"Education\", \"Income\", \"Age\", \"Marital_Status\", \"Minors_Binary\", \"Days_Since_Signing_Up\", \"Amount_Spent\", \"Accepts_Promotions\", \"Main_Purchase_Means\", \"Recency\"]\n",
    "# SSE at 4: 11000. SSE at 6: 10000\n",
    "\n",
    "# Option 4: Use \"age_bin\" instead of age as numeric variable:\n",
    "columns_to_include_4 = [\"Education\", \"Income\", \"age_bin\", \"Household_Size\", \"Days_Since_Signing_Up\", \"Amount_Spent\", \"Accepts_Promotions\", \"Main_Purchase_Means\", \"Recency\"]\n",
    "# SSE at 4: 12200. SSE at 6: 11600\n",
    "\n",
    "# Option 5: Use Number of promotions instead of \"accepts_promotions\":\n",
    "columns_to_include_5 = [\"Education\", \"Income\", \"Age\", \"Household_Size\", \"Days_Since_Signing_Up\", \"Amount_Spent\", \"#_Accepted_Promotions\", \"Main_Purchase_Means\", \"Recency\"]\n",
    "# SSE at 4: 12800. SSE at 6: 11800\n",
    "\n",
    "# COMBINE BEST: 1) Leave out education; 2) use \"Marital_Status\" and \"Minors_Binary\" instead of \"Household_Size\"\n",
    "columns_to_include_final = [\"Income\", \"Age\", \"Marital_Status\", \"Minors_Binary\", \"Days_Since_Signing_Up\", \"Amount_Spent\", \"Accepts_Promotions\", \"Main_Purchase_Means\", \"Recency\"]\n",
    "# SSE at 4: 8500. SSE at 6: 7500\n",
    "\n",
    "# UPDATE: The initial clustering showed that \"Recency\" is not a very informative feature. Re-run without:\n",
    "columns_to_include_updated = columns_to_include_final = [\"Income\", \"Age\", \"Marital_Status\", \"Minors_Binary\", \"Days_Since_Signing_Up\", \"Amount_Spent\", \"Accepts_Promotions\", \"Main_Purchase_Means\"]\n",
    "# SSE at 4: 6200. SSE at 6: 5500\n",
    "\n",
    "# Use updated combination of features"
   ]
  },
  {
   "cell_type": "code",
   "execution_count": 283,
   "id": "1ca485ee",
   "metadata": {},
   "outputs": [],
   "source": [
    "# Use elbow method to determine best possible n:"
   ]
  },
  {
   "cell_type": "code",
   "execution_count": 284,
   "id": "4343f88c",
   "metadata": {},
   "outputs": [
    {
     "data": {
      "image/png": "[encoded data removed]",
      "text/plain": [
       "<Figure size 640x480 with 1 Axes>"
      ]
     },
     "metadata": {},
     "output_type": "display_data"
    }
   ],
   "source": [
    "k_range = range(1, 11)\n",
    "SSE = []\n",
    "\n",
    "for k in k_range:\n",
    "    km = KMeans(n_clusters = k, n_init = \"auto\")\n",
    "    km.fit(df[columns_to_include_updated])\n",
    "    SSE.append(km.inertia_)\n",
    "\n",
    "# Visualise this:\n",
    "plt.plot(k_range, SSE)\n",
    "plt.ylabel(\"Sum of squared error\")\n",
    "plt.show()\n",
    "\n",
    "# I choose 6"
   ]
  },
  {
   "cell_type": "code",
   "execution_count": 285,
   "id": "b86544fa",
   "metadata": {},
   "outputs": [],
   "source": [
    "# Run model:\n",
    "km = KMeans(n_clusters = 6)"
   ]
  },
  {
   "cell_type": "code",
   "execution_count": 286,
   "id": "f06367f0",
   "metadata": {},
   "outputs": [
    {
     "name": "stderr",
     "output_type": "stream",
     "text": [
      "/Users/paulinecuperus/anaconda3/lib/python3.11/site-packages/sklearn/cluster/_kmeans.py:1412: FutureWarning: The default value of `n_init` will change from 10 to 'auto' in 1.4. Set the value of `n_init` explicitly to suppress the warning\n",
      "  super()._check_params_vs_input(X, default_n_init=10)\n"
     ]
    }
   ],
   "source": [
    "# Get cluster per customer:\n",
    "y_pred = km.fit_predict(df[columns_to_include_updated])\n",
    "\n",
    "# Add this as a separate column to the dataframe:\n",
    "df[\"Cluster\"] = y_pred"
   ]
  },
  {
   "cell_type": "code",
   "execution_count": 287,
   "id": "59ccb068",
   "metadata": {},
   "outputs": [
    {
     "name": "stdout",
     "output_type": "stream",
     "text": [
      "Cluster\n",
      "3    445\n",
      "0    432\n",
      "4    396\n",
      "1    377\n",
      "5    313\n",
      "2    249\n",
      "Name: count, dtype: int64\n"
     ]
    }
   ],
   "source": [
    "# Check distribution of clusters:\n",
    "print(df[\"Cluster\"].value_counts())\n",
    "# Relatively even (although 3 smaller than other categories)"
   ]
  },
  {
   "cell_type": "markdown",
   "id": "786ff869",
   "metadata": {},
   "source": [
    "### Analyse outcome"
   ]
  },
  {
   "cell_type": "code",
   "execution_count": 288,
   "id": "449290ff",
   "metadata": {},
   "outputs": [
    {
     "name": "stdout",
     "output_type": "stream",
     "text": [
      "     ID  Year_Birth  Education         Marital_Status   Income  Kidhome  \\\n",
      "0  5524        1957          2  Not in a relationship  58138.0        0   \n",
      "1  2174        1954          2  Not in a relationship  46344.0        1   \n",
      "2  4141        1965          2      In a relationship  71613.0        0   \n",
      "3  6182        1984          2      In a relationship  26646.0        1   \n",
      "4  5324        1981          4      In a relationship  58293.0        1   \n",
      "\n",
      "   Teenhome  Recency  Complain  Amount_Spent  ...  Number_of_Adults  \\\n",
      "0         0     58.0         0         982.0  ...                 1   \n",
      "1         1     38.0         0          16.0  ...                 1   \n",
      "2         0     26.0         0         350.0  ...                 2   \n",
      "3         0     26.0         0          42.0  ...                 2   \n",
      "4         0     94.0         0         249.0  ...                 2   \n",
      "\n",
      "  Number_of_Minors  Household_Size  Minors_Binary  Days_Since_Signing_Up  \\\n",
      "0                0             1.0              0                  848.0   \n",
      "1                2             3.0              1                  298.0   \n",
      "2                0             2.0              0                  497.0   \n",
      "3                1             3.0              1                  324.0   \n",
      "4                1             3.0              1                  346.0   \n",
      "\n",
      "  #_Accepted_Promotions  Accepts_Promotions  Main_Purchase_Means  \\\n",
      "0                   0.0                   0              Catalog   \n",
      "1                   0.0                   0                Store   \n",
      "2                   0.0                   0                Store   \n",
      "3                   0.0                   0                Store   \n",
      "4                   0.0                   0                Store   \n",
      "\n",
      "   Proportion_Income_Spent Cluster  \n",
      "0                 0.016891       2  \n",
      "1                 0.000345       1  \n",
      "2                 0.004887       1  \n",
      "3                 0.001576       3  \n",
      "4                 0.004272       3  \n",
      "\n",
      "[5 rows x 22 columns]\n"
     ]
    }
   ],
   "source": [
    "# Get back the original values before transformation:\n",
    "df[\"Marital_Status\"] = label_encoder_marital_status.inverse_transform(df[\"Marital_Status\"])\n",
    "df[\"Accepts_Promotions\"] = label_encoder_promotions.inverse_transform(df[\"Accepts_Promotions\"])\n",
    "df[\"age_bin\"] = label_encoder_age.inverse_transform(df[\"age_bin\"])\n",
    "df[\"Main_Purchase_Means\"] = label_encoder_means.inverse_transform(df[\"Main_Purchase_Means\"])\n",
    "\n",
    "df[[\"Proportion_Income_Spent\", \"Income\", \"Recency\", \"Days_Since_Signing_Up\", \"Age\", \"Household_Size\", \"Amount_Spent\", \"#_Accepted_Promotions\"]] = standard_scaler.inverse_transform(df[[\"Proportion_Income_Spent\", \"Income\", \"Recency\", \"Days_Since_Signing_Up\", \"Age\", \"Household_Size\", \"Amount_Spent\", \"#_Accepted_Promotions\"]])\n",
    "print(df.head())"
   ]
  },
  {
   "cell_type": "code",
   "execution_count": 289,
   "id": "2330c0a9",
   "metadata": {},
   "outputs": [
    {
     "data": {
      "image/png": "[encoded data removed]",
      "text/plain": [
       "<Figure size 1000x1000 with 8 Axes>"
      ]
     },
     "metadata": {},
     "output_type": "display_data"
    }
   ],
   "source": [
    "# Visualise the different groups in terms of the features that were included:\n",
    "fig, axs = plt.subplots(4, 2, figsize = (10, 10))\n",
    "\n",
    "sns.barplot(df, x = \"Cluster\", y = \"Amount_Spent\", ax = axs[0, 0])\n",
    "axs[0, 0].set_title(\"Amount spent\")\n",
    "axs[0, 0].set_ylabel(\"$\")\n",
    "\n",
    "sns.barplot(df, x = \"Cluster\", y = \"Income\", ax = axs[0, 1])\n",
    "axs[0, 1].set_title(\"Income\")\n",
    "axs[0, 1].set_ylabel(\"$\")\n",
    "\n",
    "sns.barplot(df, x = \"Cluster\", y = \"Age\", ax = axs[1, 0])\n",
    "axs[1, 0].set_title(\"Age\")\n",
    "axs[1, 0].set_ylabel(\"Years\")\n",
    "\n",
    "sns.barplot(df, x = \"Cluster\", y = \"Days_Since_Signing_Up\", ax = axs[1, 1])\n",
    "axs[1, 1].set_title(\"Days since signing up\")\n",
    "axs[1, 1].set_ylabel(\"Days\")\n",
    "\n",
    "sns.countplot(df, x = \"Cluster\", hue = \"Accepts_Promotions\", ax = axs[2, 0])\n",
    "axs[2, 0].set_title(\"Promotion acceptance\")\n",
    "axs[2, 0].set_ylabel(\"Count\")\n",
    "axs[2, 0].legend(ncol = 2, fontsize = 7)\n",
    "\n",
    "sns.countplot(df, x = \"Cluster\", hue = \"Main_Purchase_Means\", ax = axs[2, 1])\n",
    "axs[2, 1].set_title(\"Main purchase means\")\n",
    "axs[2, 1].set_ylabel(\"Count\")\n",
    "axs[2, 1].legend(ncol = 2, fontsize = 7, loc = \"upper center\")\n",
    "\n",
    "sns.countplot(df, x = \"Cluster\", hue = \"Marital_Status\", ax = axs[3, 0])\n",
    "axs[3, 0].set_title(\"Marital status\")\n",
    "axs[3, 0].set_ylabel(\"Count\")\n",
    "axs[3, 0].legend(ncol = 2, fontsize = 7)\n",
    "\n",
    "sns.countplot(df, x = \"Cluster\", hue = \"Minors_Binary\", ax = axs[3, 1])\n",
    "axs[3, 1].set_title(\"Children at home yes/no\")\n",
    "axs[3, 1].set_ylabel(\"Count\")\n",
    "axs[3, 1].legend(ncol = 2, fontsize = 7)\n",
    "\n",
    "plt.tight_layout()\n",
    "# NOTE: Very little variation in \"Recency\". Will rerun model without this feature."
   ]
  },
  {
   "cell_type": "code",
   "execution_count": 290,
   "id": "cf7471bd",
   "metadata": {},
   "outputs": [
    {
     "data": {
      "text/html": [
       "<div>\n",
       "<style scoped>\n",
       "    .dataframe tbody tr th:only-of-type {\n",
       "        vertical-align: middle;\n",
       "    }\n",
       "\n",
       "    .dataframe tbody tr th {\n",
       "        vertical-align: top;\n",
       "    }\n",
       "\n",
       "    .dataframe thead th {\n",
       "        text-align: right;\n",
       "    }\n",
       "</style>\n",
       "<table border=\"1\" class=\"dataframe\">\n",
       "  <thead>\n",
       "    <tr style=\"text-align: right;\">\n",
       "      <th></th>\n",
       "      <th>Cluster</th>\n",
       "      <th>Amount_Spent</th>\n",
       "      <th>Income</th>\n",
       "      <th>Age</th>\n",
       "      <th>Days_Since_Signing_Up</th>\n",
       "      <th>Proportion_Accepting_Promotions</th>\n",
       "      <th>Proportion_Married</th>\n",
       "      <th>Proportion_With_Children</th>\n",
       "      <th>Proportion_Store_Purchases</th>\n",
       "      <th>Proportion_Web_Purchases</th>\n",
       "      <th>Proportion_Catalog_Purchases</th>\n",
       "      <th>Proportion_Combined_Purchases</th>\n",
       "    </tr>\n",
       "  </thead>\n",
       "  <tbody>\n",
       "    <tr>\n",
       "      <th>0</th>\n",
       "      <td>0</td>\n",
       "      <td>106.604167</td>\n",
       "      <td>33509.981481</td>\n",
       "      <td>36.928241</td>\n",
       "      <td>712.824074</td>\n",
       "      <td>0.09</td>\n",
       "      <td>0.67</td>\n",
       "      <td>0.87</td>\n",
       "      <td>0.65</td>\n",
       "      <td>0.19</td>\n",
       "      <td>0.00</td>\n",
       "      <td>0.16</td>\n",
       "    </tr>\n",
       "    <tr>\n",
       "      <th>1</th>\n",
       "      <td>1</td>\n",
       "      <td>127.368700</td>\n",
       "      <td>52141.193634</td>\n",
       "      <td>54.236074</td>\n",
       "      <td>363.575597</td>\n",
       "      <td>0.17</td>\n",
       "      <td>0.70</td>\n",
       "      <td>0.88</td>\n",
       "      <td>0.75</td>\n",
       "      <td>0.13</td>\n",
       "      <td>0.01</td>\n",
       "      <td>0.12</td>\n",
       "    </tr>\n",
       "    <tr>\n",
       "      <th>2</th>\n",
       "      <td>2</td>\n",
       "      <td>766.690763</td>\n",
       "      <td>77420.028112</td>\n",
       "      <td>57.530120</td>\n",
       "      <td>498.481928</td>\n",
       "      <td>0.41</td>\n",
       "      <td>0.62</td>\n",
       "      <td>0.20</td>\n",
       "      <td>0.53</td>\n",
       "      <td>0.04</td>\n",
       "      <td>0.33</td>\n",
       "      <td>0.11</td>\n",
       "    </tr>\n",
       "    <tr>\n",
       "      <th>3</th>\n",
       "      <td>3</td>\n",
       "      <td>67.065169</td>\n",
       "      <td>35551.651685</td>\n",
       "      <td>37.159551</td>\n",
       "      <td>363.820225</td>\n",
       "      <td>0.11</td>\n",
       "      <td>0.64</td>\n",
       "      <td>0.90</td>\n",
       "      <td>0.73</td>\n",
       "      <td>0.08</td>\n",
       "      <td>0.01</td>\n",
       "      <td>0.19</td>\n",
       "    </tr>\n",
       "    <tr>\n",
       "      <th>4</th>\n",
       "      <td>4</td>\n",
       "      <td>263.820707</td>\n",
       "      <td>54225.386364</td>\n",
       "      <td>54.242424</td>\n",
       "      <td>718.371212</td>\n",
       "      <td>0.19</td>\n",
       "      <td>0.61</td>\n",
       "      <td>0.85</td>\n",
       "      <td>0.58</td>\n",
       "      <td>0.27</td>\n",
       "      <td>0.03</td>\n",
       "      <td>0.12</td>\n",
       "    </tr>\n",
       "    <tr>\n",
       "      <th>5</th>\n",
       "      <td>5</td>\n",
       "      <td>794.527157</td>\n",
       "      <td>77405.821086</td>\n",
       "      <td>35.111821</td>\n",
       "      <td>562.718850</td>\n",
       "      <td>0.40</td>\n",
       "      <td>0.62</td>\n",
       "      <td>0.27</td>\n",
       "      <td>0.67</td>\n",
       "      <td>0.13</td>\n",
       "      <td>0.11</td>\n",
       "      <td>0.09</td>\n",
       "    </tr>\n",
       "  </tbody>\n",
       "</table>\n",
       "</div>"
      ],
      "text/plain": [
       "   Cluster  Amount_Spent        Income        Age  Days_Since_Signing_Up  \\\n",
       "0        0    106.604167  33509.981481  36.928241             712.824074   \n",
       "1        1    127.368700  52141.193634  54.236074             363.575597   \n",
       "2        2    766.690763  77420.028112  57.530120             498.481928   \n",
       "3        3     67.065169  35551.651685  37.159551             363.820225   \n",
       "4        4    263.820707  54225.386364  54.242424             718.371212   \n",
       "5        5    794.527157  77405.821086  35.111821             562.718850   \n",
       "\n",
       "   Proportion_Accepting_Promotions  Proportion_Married  \\\n",
       "0                             0.09                0.67   \n",
       "1                             0.17                0.70   \n",
       "2                             0.41                0.62   \n",
       "3                             0.11                0.64   \n",
       "4                             0.19                0.61   \n",
       "5                             0.40                0.62   \n",
       "\n",
       "   Proportion_With_Children  Proportion_Store_Purchases  \\\n",
       "0                      0.87                        0.65   \n",
       "1                      0.88                        0.75   \n",
       "2                      0.20                        0.53   \n",
       "3                      0.90                        0.73   \n",
       "4                      0.85                        0.58   \n",
       "5                      0.27                        0.67   \n",
       "\n",
       "   Proportion_Web_Purchases  Proportion_Catalog_Purchases  \\\n",
       "0                      0.19                          0.00   \n",
       "1                      0.13                          0.01   \n",
       "2                      0.04                          0.33   \n",
       "3                      0.08                          0.01   \n",
       "4                      0.27                          0.03   \n",
       "5                      0.13                          0.11   \n",
       "\n",
       "   Proportion_Combined_Purchases  \n",
       "0                           0.16  \n",
       "1                           0.12  \n",
       "2                           0.11  \n",
       "3                           0.19  \n",
       "4                           0.12  \n",
       "5                           0.09  "
      ]
     },
     "execution_count": 290,
     "metadata": {},
     "output_type": "execute_result"
    }
   ],
   "source": [
    "# Create a dataframe with detailed information for all features per cluster:\n",
    "df_clusters = df.groupby([\"Cluster\"])[[\"Amount_Spent\", \"Income\", \"Age\", \"Days_Since_Signing_Up\"]].mean().reset_index()\n",
    "\n",
    "# Add proportions for categorical variables + add to clusters dataframe:\n",
    "df_clusters_promotions = df.groupby([\"Cluster\"])[[\"Accepts_Promotions\"]].value_counts().reset_index()\n",
    "df_clusters_promotions[\"proportion_promotions\"] = df_clusters_promotions.apply(lambda x: round(x[\"count\"] / (df_clusters_promotions[df_clusters_promotions[\"Cluster\"] == x[\"Cluster\"]][\"count\"].sum()), 2), axis = 1)\n",
    "df_clusters[\"Proportion_Accepting_Promotions\"] = df_clusters_promotions[df_clusters_promotions[\"Accepts_Promotions\"] == 1].reset_index()[\"proportion_promotions\"]\n",
    "\n",
    "df_clusters_marital_status = df.groupby([\"Cluster\"])[[\"Marital_Status\"]].value_counts().reset_index()\n",
    "df_clusters_marital_status[\"proportion_married\"] = df_clusters_marital_status.apply(lambda x: round(x[\"count\"] / (df_clusters_marital_status[df_clusters_marital_status[\"Cluster\"] == x[\"Cluster\"]][\"count\"].sum()), 2), axis = 1)\n",
    "df_clusters[\"Proportion_Married\"] = df_clusters_marital_status[df_clusters_marital_status[\"Marital_Status\"] == \"In a relationship\"].reset_index()[\"proportion_married\"]\n",
    "\n",
    "df_clusters_minors = df.groupby([\"Cluster\"])[[\"Minors_Binary\"]].value_counts().reset_index()\n",
    "df_clusters_minors[\"proportion_minors\"] = df_clusters_minors.apply(lambda x: round(x[\"count\"] / (df_clusters_minors[df_clusters_minors[\"Cluster\"] == x[\"Cluster\"]][\"count\"].sum()), 2), axis = 1)\n",
    "df_clusters[\"Proportion_With_Children\"] = df_clusters_minors[df_clusters_minors[\"Minors_Binary\"] == 1].reset_index()[\"proportion_minors\"]\n",
    "\n",
    "df_clusters_means = df.groupby([\"Cluster\"])[[\"Main_Purchase_Means\"]].value_counts().reset_index()\n",
    "df_clusters_means[\"proportion_store\"] = df_clusters_means.apply(lambda x: round(x[\"count\"] / (df_clusters_means[df_clusters_means[\"Cluster\"] == x[\"Cluster\"]][\"count\"].sum()), 2), axis = 1)\n",
    "df_clusters[\"Proportion_Store_Purchases\"] = df_clusters_means[df_clusters_means[\"Main_Purchase_Means\"] == \"Store\"].reset_index()[\"proportion_store\"]\n",
    "df_clusters[\"Proportion_Web_Purchases\"] = df_clusters_means[df_clusters_means[\"Main_Purchase_Means\"] == \"Web\"].reset_index()[\"proportion_store\"]\n",
    "df_clusters[\"Proportion_Catalog_Purchases\"] = df_clusters_means[df_clusters_means[\"Main_Purchase_Means\"] == \"Catalog\"].reset_index()[\"proportion_store\"]\n",
    "df_clusters[\"Proportion_Combined_Purchases\"] = df_clusters_means[df_clusters_means[\"Main_Purchase_Means\"] == \"Combination\"].reset_index()[\"proportion_store\"]\n",
    "\n",
    "\n",
    "df_clusters"
   ]
  },
  {
   "cell_type": "markdown",
   "id": "3e194317",
   "metadata": {},
   "source": [
    "### Short descriptions of the clusters: \n",
    "- Cluster 0: Young, mostly in relationships, with children. Relatively low income and spending. Have been customers for about two years but are not sensitive to promotions. Most purchases done in store, although web purchases relatively popular.\n",
    "- Cluster 1: Older, highest proportion of people in relationships, with children. Middle income and relatively low spending. Have been customers for about a year and are not very accepting of promotions. Most purchases done in store.\n",
    "- Cluster 2: Oldest cluster, tend to be in relationships, generally without children. High income and high spending. Have been customers for just over a year. This group is relatively sensitive to promotions. This is the only cluster that does a substantial proportion of their purchases (about a third) via catalog\n",
    "- Cluster 3: Young, mostly in relationships, with children. Relatively low income and lowest spending of all clusters. Have been customers for about a year and are not sensitive to promotions. Most purchases done in store.\n",
    "- Cluster 4: Older, lowest proportion of people in relationships (about 61%), with children. Middle income but relatively high amount of money spent. Have been customers for about two years and are not very responsive to promotions. Most purchases are done in store, although web purchases are the most popular in this group compared to the other clusters.\n",
    "- Cluster 5: Young, mostly in relationships, without children. Highest income and spending out of all clusters. Have been customers for about 1.5 years and are relatively responsive to promotions. Most purchases are done in store, although online and catalog purchases occur here too."
   ]
  }
 ],
 "metadata": {
  "kernelspec": {
   "display_name": "Python 3 (ipykernel)",
   "language": "python",
   "name": "python3"
  },
  "language_info": {
   "codemirror_mode": {
    "name": "ipython",
    "version": 3
   },
   "file_extension": ".py",
   "mimetype": "text/x-python",
   "name": "python",
   "nbconvert_exporter": "python",
   "pygments_lexer": "ipython3",
   "version": "3.11.5"
  }
 },
 "nbformat": 4,
 "nbformat_minor": 5
}
